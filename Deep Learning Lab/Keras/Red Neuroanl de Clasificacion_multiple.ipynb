{
  "nbformat": 4,
  "nbformat_minor": 0,
  "metadata": {
    "kernelspec": {
      "display_name": "Python 3",
      "language": "python",
      "name": "python3"
    },
    "language_info": {
      "codemirror_mode": {
        "name": "ipython",
        "version": 3
      },
      "file_extension": ".py",
      "mimetype": "text/x-python",
      "name": "python",
      "nbconvert_exporter": "python",
      "pygments_lexer": "ipython3",
      "version": "3.7.7"
    },
    "colab": {
      "provenance": []
    },
    "accelerator": "GPU",
    "gpuClass": "standard"
  },
  "cells": [
    {
      "cell_type": "markdown",
      "metadata": {
        "id": "5dzlKaKtvNUG"
      },
      "source": [
        "## Importando librerías"
      ]
    },
    {
      "cell_type": "code",
      "metadata": {
        "id": "gySTtwvxvNUN"
      },
      "source": [
        "from keras.datasets import reuters\n",
        "from keras import layers, models\n",
        "import numpy as np"
      ],
      "execution_count": 2,
      "outputs": []
    },
    {
      "cell_type": "markdown",
      "metadata": {
        "id": "gK2kCbx1vNUO"
      },
      "source": [
        "## Descarguemos datos"
      ]
    },
    {
      "cell_type": "code",
      "metadata": {
        "id": "eS1nChnXvNUP",
        "colab": {
          "base_uri": "https://localhost:8080/"
        },
        "outputId": "c9fb4f1b-2ed5-4bb0-cddf-7a3dfc8df784"
      },
      "source": [
        "(train_data, train_labels), (test_data, test_labels) = reuters.load_data(num_words=10000)"
      ],
      "execution_count": 3,
      "outputs": [
        {
          "output_type": "stream",
          "name": "stdout",
          "text": [
            "Downloading data from https://storage.googleapis.com/tensorflow/tf-keras-datasets/reuters.npz\n",
            "2110848/2110848 [==============================] - 0s 0us/step\n"
          ]
        }
      ]
    },
    {
      "cell_type": "markdown",
      "metadata": {
        "id": "yt6iIWGcvNUP"
      },
      "source": [
        "### Diccionario de palabras"
      ]
    },
    {
      "cell_type": "code",
      "metadata": {
        "id": "eFKR6NPbvNUP",
        "colab": {
          "base_uri": "https://localhost:8080/"
        },
        "outputId": "6bf66cea-7939-4b04-d7a9-0706576f3d94"
      },
      "source": [
        "word_index = reuters.get_word_index()\n",
        "word_index = dict([(value,key) for (key,value) in word_index.items()])"
      ],
      "execution_count": 4,
      "outputs": [
        {
          "output_type": "stream",
          "name": "stdout",
          "text": [
            "Downloading data from https://storage.googleapis.com/tensorflow/tf-keras-datasets/reuters_word_index.json\n",
            "550378/550378 [==============================] - 0s 0us/step\n"
          ]
        }
      ]
    },
    {
      "cell_type": "code",
      "metadata": {
        "id": "S2M21Aw5vNUQ",
        "outputId": "d2a94bda-3834-40a0-f945-f970678d8d0f",
        "colab": {
          "base_uri": "https://localhost:8080/"
        }
      },
      "source": [
        "for _ in train_data[0]:\n",
        "    print(word_index.get( _ - 3))"
      ],
      "execution_count": 5,
      "outputs": [
        {
          "output_type": "stream",
          "name": "stdout",
          "text": [
            "None\n",
            "None\n",
            "None\n",
            "said\n",
            "as\n",
            "a\n",
            "result\n",
            "of\n",
            "its\n",
            "december\n",
            "acquisition\n",
            "of\n",
            "space\n",
            "co\n",
            "it\n",
            "expects\n",
            "earnings\n",
            "per\n",
            "share\n",
            "in\n",
            "1987\n",
            "of\n",
            "1\n",
            "15\n",
            "to\n",
            "1\n",
            "30\n",
            "dlrs\n",
            "per\n",
            "share\n",
            "up\n",
            "from\n",
            "70\n",
            "cts\n",
            "in\n",
            "1986\n",
            "the\n",
            "company\n",
            "said\n",
            "pretax\n",
            "net\n",
            "should\n",
            "rise\n",
            "to\n",
            "nine\n",
            "to\n",
            "10\n",
            "mln\n",
            "dlrs\n",
            "from\n",
            "six\n",
            "mln\n",
            "dlrs\n",
            "in\n",
            "1986\n",
            "and\n",
            "rental\n",
            "operation\n",
            "revenues\n",
            "to\n",
            "19\n",
            "to\n",
            "22\n",
            "mln\n",
            "dlrs\n",
            "from\n",
            "12\n",
            "5\n",
            "mln\n",
            "dlrs\n",
            "it\n",
            "said\n",
            "cash\n",
            "flow\n",
            "per\n",
            "share\n",
            "this\n",
            "year\n",
            "should\n",
            "be\n",
            "2\n",
            "50\n",
            "to\n",
            "three\n",
            "dlrs\n",
            "reuter\n",
            "3\n"
          ]
        }
      ]
    },
    {
      "cell_type": "markdown",
      "metadata": {
        "id": "JfPM85lPvNUR"
      },
      "source": [
        "### Función de vectorizar "
      ]
    },
    {
      "cell_type": "code",
      "metadata": {
        "id": "G80OGI-LvNUR"
      },
      "source": [
        "def vectorizar(sequences, dim=10000):\n",
        "    restults = np.zeros((len(sequences),dim))\n",
        "    for i, sequences in enumerate(sequences):\n",
        "        restults[i,sequences]=1\n",
        "    return restults     "
      ],
      "execution_count": 6,
      "outputs": []
    },
    {
      "cell_type": "markdown",
      "metadata": {
        "id": "t7_cTCDmvNUR"
      },
      "source": [
        "## Transformando los datos"
      ]
    },
    {
      "cell_type": "code",
      "metadata": {
        "id": "qtqZF-bzvNUS"
      },
      "source": [
        "x_train = vectorizar(train_data)\n",
        "x_test = vectorizar(test_data)"
      ],
      "execution_count": 7,
      "outputs": []
    },
    {
      "cell_type": "code",
      "metadata": {
        "id": "wo-3rSAuvNUT"
      },
      "source": [
        "from keras.utils.np_utils import to_categorical"
      ],
      "execution_count": 8,
      "outputs": []
    },
    {
      "cell_type": "code",
      "metadata": {
        "id": "OhqEXJubvNUU"
      },
      "source": [
        "y_train = to_categorical(train_labels)\n",
        "y_test = to_categorical(test_labels)\n"
      ],
      "execution_count": 9,
      "outputs": []
    },
    {
      "cell_type": "code",
      "metadata": {
        "id": "xRhJErIGvNUU",
        "outputId": "a310f930-bb2f-4d5f-e359-76804417f68a",
        "colab": {
          "base_uri": "https://localhost:8080/"
        }
      },
      "source": [
        "train_labels[0]"
      ],
      "execution_count": 10,
      "outputs": [
        {
          "output_type": "execute_result",
          "data": {
            "text/plain": [
              "3"
            ]
          },
          "metadata": {},
          "execution_count": 10
        }
      ]
    },
    {
      "cell_type": "code",
      "metadata": {
        "id": "7XSB_eswvNUV",
        "outputId": "fb406093-4d8d-402a-ce2d-6fc6a1ff0f37",
        "colab": {
          "base_uri": "https://localhost:8080/"
        }
      },
      "source": [
        "y_train[0]"
      ],
      "execution_count": 11,
      "outputs": [
        {
          "output_type": "execute_result",
          "data": {
            "text/plain": [
              "array([0., 0., 0., 1., 0., 0., 0., 0., 0., 0., 0., 0., 0., 0., 0., 0., 0.,\n",
              "       0., 0., 0., 0., 0., 0., 0., 0., 0., 0., 0., 0., 0., 0., 0., 0., 0.,\n",
              "       0., 0., 0., 0., 0., 0., 0., 0., 0., 0., 0., 0.], dtype=float32)"
            ]
          },
          "metadata": {},
          "execution_count": 11
        }
      ]
    },
    {
      "cell_type": "markdown",
      "metadata": {
        "id": "7KqfIi99vNUV"
      },
      "source": [
        "### Creando la red"
      ]
    },
    {
      "cell_type": "code",
      "metadata": {
        "id": "aB8KyKDDvNUV"
      },
      "source": [
        "model = models.Sequential()\n",
        "model.add(layers.Dense(64, activation='relu', input_shape=(10000,)))\n",
        "model.add(layers.Dense(64, activation='relu'))\n",
        "model.add(layers.Dense(46, activation='softmax'))"
      ],
      "execution_count": 12,
      "outputs": []
    },
    {
      "cell_type": "code",
      "metadata": {
        "id": "xHRbJeufvNUW"
      },
      "source": [
        "model.compile(optimizer='rmsprop',\n",
        "              loss='categorical_crossentropy',\n",
        "              metrics=['acc']   \n",
        "             )"
      ],
      "execution_count": 13,
      "outputs": []
    },
    {
      "cell_type": "code",
      "metadata": {
        "id": "du5C-sFGvNUW"
      },
      "source": [
        "x_val = x_train[:1000]\n",
        "partial_x_train = x_train[1000:]\n",
        "\n",
        "y_val = y_train[:1000]\n",
        "partial_y_train =  y_train[1000:]"
      ],
      "execution_count": 14,
      "outputs": []
    },
    {
      "cell_type": "markdown",
      "metadata": {
        "id": "3JEChhaPvNUX"
      },
      "source": [
        "### Entrenando el modelo"
      ]
    },
    {
      "cell_type": "code",
      "metadata": {
        "id": "DNw1_Md_vNUX",
        "outputId": "6cee230a-7c9f-47f7-a4af-128178077148",
        "colab": {
          "base_uri": "https://localhost:8080/"
        }
      },
      "source": [
        "history_basic_model = model.fit(\n",
        "    partial_x_train,\n",
        "    partial_y_train,\n",
        "    epochs=20,\n",
        "    batch_size=512,\n",
        "    validation_data=(x_val,y_val))"
      ],
      "execution_count": 28,
      "outputs": [
        {
          "output_type": "stream",
          "name": "stdout",
          "text": [
            "Epoch 1/20\n",
            "16/16 [==============================] - 0s 28ms/step - loss: 0.3531 - acc: 0.9242 - val_loss: 0.8957 - val_acc: 0.8050\n",
            "Epoch 2/20\n",
            "16/16 [==============================] - 0s 21ms/step - loss: 0.3090 - acc: 0.9312 - val_loss: 0.8715 - val_acc: 0.8150\n",
            "Epoch 3/20\n",
            "16/16 [==============================] - 0s 17ms/step - loss: 0.2702 - acc: 0.9402 - val_loss: 0.8733 - val_acc: 0.8200\n",
            "Epoch 4/20\n",
            "16/16 [==============================] - 0s 18ms/step - loss: 0.2370 - acc: 0.9458 - val_loss: 0.8657 - val_acc: 0.8140\n",
            "Epoch 5/20\n",
            "16/16 [==============================] - 0s 17ms/step - loss: 0.2083 - acc: 0.9491 - val_loss: 0.8847 - val_acc: 0.8120\n",
            "Epoch 6/20\n",
            "16/16 [==============================] - 0s 19ms/step - loss: 0.1935 - acc: 0.9520 - val_loss: 0.8878 - val_acc: 0.8230\n",
            "Epoch 7/20\n",
            "16/16 [==============================] - 0s 20ms/step - loss: 0.1763 - acc: 0.9518 - val_loss: 0.8992 - val_acc: 0.8160\n",
            "Epoch 8/20\n",
            "16/16 [==============================] - 0s 17ms/step - loss: 0.1645 - acc: 0.9528 - val_loss: 0.9689 - val_acc: 0.8070\n",
            "Epoch 9/20\n",
            "16/16 [==============================] - 0s 16ms/step - loss: 0.1511 - acc: 0.9558 - val_loss: 0.9413 - val_acc: 0.8160\n",
            "Epoch 10/20\n",
            "16/16 [==============================] - 0s 20ms/step - loss: 0.1422 - acc: 0.9565 - val_loss: 0.9427 - val_acc: 0.8140\n",
            "Epoch 11/20\n",
            "16/16 [==============================] - 0s 18ms/step - loss: 0.1373 - acc: 0.9560 - val_loss: 0.9274 - val_acc: 0.8190\n",
            "Epoch 12/20\n",
            "16/16 [==============================] - 0s 19ms/step - loss: 0.1329 - acc: 0.9573 - val_loss: 0.9502 - val_acc: 0.8230\n",
            "Epoch 13/20\n",
            "16/16 [==============================] - 0s 17ms/step - loss: 0.1280 - acc: 0.9559 - val_loss: 0.9426 - val_acc: 0.8110\n",
            "Epoch 14/20\n",
            "16/16 [==============================] - 0s 19ms/step - loss: 0.1217 - acc: 0.9575 - val_loss: 0.9491 - val_acc: 0.8120\n",
            "Epoch 15/20\n",
            "16/16 [==============================] - 0s 18ms/step - loss: 0.1176 - acc: 0.9572 - val_loss: 0.9835 - val_acc: 0.8080\n",
            "Epoch 16/20\n",
            "16/16 [==============================] - 0s 17ms/step - loss: 0.1161 - acc: 0.9582 - val_loss: 0.9677 - val_acc: 0.8220\n",
            "Epoch 17/20\n",
            "16/16 [==============================] - 0s 17ms/step - loss: 0.1125 - acc: 0.9585 - val_loss: 0.9623 - val_acc: 0.8220\n",
            "Epoch 18/20\n",
            "16/16 [==============================] - 0s 18ms/step - loss: 0.1146 - acc: 0.9559 - val_loss: 0.9877 - val_acc: 0.8120\n",
            "Epoch 19/20\n",
            "16/16 [==============================] - 0s 19ms/step - loss: 0.1130 - acc: 0.9573 - val_loss: 0.9838 - val_acc: 0.8020\n",
            "Epoch 20/20\n",
            "16/16 [==============================] - 0s 19ms/step - loss: 0.1061 - acc: 0.9567 - val_loss: 1.0240 - val_acc: 0.8090\n"
          ]
        }
      ]
    },
    {
      "cell_type": "markdown",
      "metadata": {
        "id": "3i2nqbm1vNUX"
      },
      "source": [
        "### Validamos resultados"
      ]
    },
    {
      "cell_type": "code",
      "metadata": {
        "id": "YkFGeMxovNUX",
        "outputId": "08b51b82-138e-4d02-caf6-14da23599fc7",
        "colab": {
          "base_uri": "https://localhost:8080/",
          "height": 592
        }
      },
      "source": [
        "import matplotlib.pyplot as plt \n",
        "\n",
        "history_dict = history_basic_model.history\n",
        "loss_values = history_dict['loss']\n",
        "val_loss_values = history_dict['val_loss']\n",
        "\n",
        "fig = plt.figure(figsize=(10,10))\n",
        "epoch = range(1,len(loss_values)+1)\n",
        "plt.plot(epoch,loss_values, 'o',label='training')\n",
        "plt.plot(epoch,val_loss_values, '--',label='val')\n",
        "plt.legend()\n",
        "plt.show()"
      ],
      "execution_count": 29,
      "outputs": [
        {
          "output_type": "display_data",
          "data": {
            "text/plain": [
              "<Figure size 720x720 with 1 Axes>"
            ],
            "image/png": "[encoded data removed]"
          },
          "metadata": {
            "needs_background": "light"
          }
        }
      ]
    },
    {
      "cell_type": "code",
      "metadata": {
        "id": "Mm5-NBX5vNUY",
        "outputId": "e9d5bfa2-0655-454c-ae06-9580a4bb4339",
        "colab": {
          "base_uri": "https://localhost:8080/"
        }
      },
      "source": [
        "model.evaluate(x_test, y_test)"
      ],
      "execution_count": 30,
      "outputs": [
        {
          "output_type": "stream",
          "name": "stdout",
          "text": [
            "71/71 [==============================] - 0s 3ms/step - loss: 1.1354 - acc: 0.7832\n"
          ]
        },
        {
          "output_type": "execute_result",
          "data": {
            "text/plain": [
              "[1.1354254484176636, 0.7831701040267944]"
            ]
          },
          "metadata": {},
          "execution_count": 30
        }
      ]
    },
    {
      "cell_type": "code",
      "metadata": {
        "id": "EBQV7GT2vNUY",
        "colab": {
          "base_uri": "https://localhost:8080/"
        },
        "outputId": "fc390e25-fcbe-4061-8495-7fa54b554eb6"
      },
      "source": [
        "predictions = model.predict(x_test)"
      ],
      "execution_count": 31,
      "outputs": [
        {
          "output_type": "stream",
          "name": "stdout",
          "text": [
            "71/71 [==============================] - 0s 2ms/step\n"
          ]
        }
      ]
    },
    {
      "cell_type": "code",
      "metadata": {
        "id": "6r1YZAbDvNUY",
        "outputId": "ba3dd38e-4392-474e-d72c-a8d97662f503",
        "colab": {
          "base_uri": "https://localhost:8080/"
        }
      },
      "source": [
        "predictions[0]"
      ],
      "execution_count": 32,
      "outputs": [
        {
          "output_type": "execute_result",
          "data": {
            "text/plain": [
              "array([1.8433067e-07, 6.4526091e-08, 1.5513008e-09, 9.7734010e-01,\n",
              "       2.1236001e-02, 1.0808679e-08, 8.3779561e-09, 6.5813350e-07,\n",
              "       1.0646838e-03, 1.0271236e-07, 5.6404701e-07, 6.6732337e-06,\n",
              "       3.2388411e-06, 1.4288943e-08, 9.3701004e-08, 1.6682978e-09,\n",
              "       1.0356599e-06, 4.1317577e-08, 6.4898074e-09, 5.0356961e-05,\n",
              "       2.9008457e-04, 5.3708732e-07, 1.1489457e-09, 1.7171164e-06,\n",
              "       6.7885586e-09, 3.2940051e-08, 5.8443785e-11, 5.3739345e-08,\n",
              "       1.6954297e-09, 1.9120303e-06, 2.1685084e-07, 2.0473374e-10,\n",
              "       3.0164178e-09, 5.9950773e-09, 3.9860581e-08, 2.0801825e-07,\n",
              "       1.2205197e-06, 2.9152487e-09, 1.5056337e-08, 1.0136360e-08,\n",
              "       5.9191464e-08, 6.2072488e-08, 1.0175955e-08, 3.4535410e-09,\n",
              "       3.5574690e-10, 1.4259158e-08], dtype=float32)"
            ]
          },
          "metadata": {},
          "execution_count": 32
        }
      ]
    },
    {
      "cell_type": "code",
      "metadata": {
        "id": "uwzyYoLQvNUZ",
        "outputId": "8592352f-2f5a-4fb2-a8f9-55fbd33342db",
        "colab": {
          "base_uri": "https://localhost:8080/"
        }
      },
      "source": [
        "np.sum(predictions[0])"
      ],
      "execution_count": 33,
      "outputs": [
        {
          "output_type": "execute_result",
          "data": {
            "text/plain": [
              "1.0"
            ]
          },
          "metadata": {},
          "execution_count": 33
        }
      ]
    },
    {
      "cell_type": "code",
      "metadata": {
        "id": "aOq313kevNUZ",
        "outputId": "61350a58-dc00-4f58-e348-dedc94c6cba2",
        "colab": {
          "base_uri": "https://localhost:8080/"
        }
      },
      "source": [
        "np.argmax([2,5,65,3,6,7])"
      ],
      "execution_count": 34,
      "outputs": [
        {
          "output_type": "execute_result",
          "data": {
            "text/plain": [
              "2"
            ]
          },
          "metadata": {},
          "execution_count": 34
        }
      ]
    },
    {
      "cell_type": "code",
      "metadata": {
        "id": "iWZXdP4xvNUZ",
        "outputId": "8fa73b98-04bd-4906-ea78-5dbf6bbc4fde",
        "colab": {
          "base_uri": "https://localhost:8080/"
        }
      },
      "source": [
        "np.argmax(predictions[0])"
      ],
      "execution_count": 35,
      "outputs": [
        {
          "output_type": "execute_result",
          "data": {
            "text/plain": [
              "3"
            ]
          },
          "metadata": {},
          "execution_count": 35
        }
      ]
    },
    {
      "cell_type": "markdown",
      "source": [
        "# Regularización L2"
      ],
      "metadata": {
        "id": "th4f5iPq58uW"
      }
    },
    {
      "cell_type": "code",
      "source": [
        "from keras import regularizers"
      ],
      "metadata": {
        "id": "4ZdXsiJ56Zy_"
      },
      "execution_count": 36,
      "outputs": []
    },
    {
      "cell_type": "code",
      "source": [
        "# 1 definición del modelo\n",
        "regularizedL2_model = models.Sequential()\n",
        "regularizedL2_model.add(layers.Dense(64, activation='relu', input_shape=(10000,),\n",
        "                                   kernel_regularizer=regularizers.l2(0.00002)))\n",
        "regularizedL2_model.add(layers.Dense(64, activation='relu',\n",
        "                                   kernel_regularizer=regularizers.l2(0.00002)))\n",
        "regularizedL2_model.add(layers.Dense(46, activation='softmax'))\n",
        "\n",
        "\n",
        "# 2 Compilación del modelo\n",
        "regularizedL2_model.compile(optimizer='rmsprop',\n",
        "              loss='binary_crossentropy',\n",
        "              metrics=['acc'])\n",
        "\n",
        "# 3 Entrenamiento del modelo\n",
        "history_regularizedL2_model = regularizedL2_model.fit(partial_x_train,\n",
        "                                                  partial_y_train,\n",
        "                                                  epochs=20,\n",
        "                                                  batch_size=512,\n",
        "                                                  validation_data=(x_val, y_val))"
      ],
      "metadata": {
        "colab": {
          "base_uri": "https://localhost:8080/"
        },
        "id": "fogCiRHQ59iX",
        "outputId": "7a057e7b-a98c-4a2b-f23d-70c9f15082eb"
      },
      "execution_count": 37,
      "outputs": [
        {
          "output_type": "stream",
          "name": "stdout",
          "text": [
            "Epoch 1/20\n",
            "16/16 [==============================] - 1s 32ms/step - loss: 0.4961 - acc: 0.0019 - val_loss: 0.2555 - val_acc: 0.0030\n",
            "Epoch 2/20\n",
            "16/16 [==============================] - 0s 20ms/step - loss: 0.1733 - acc: 0.1763 - val_loss: 0.1217 - val_acc: 0.3780\n",
            "Epoch 3/20\n",
            "16/16 [==============================] - 0s 19ms/step - loss: 0.1054 - acc: 0.3721 - val_loss: 0.0943 - val_acc: 0.3950\n",
            "Epoch 4/20\n",
            "16/16 [==============================] - 0s 20ms/step - loss: 0.0874 - acc: 0.4211 - val_loss: 0.0819 - val_acc: 0.4990\n",
            "Epoch 5/20\n",
            "16/16 [==============================] - 0s 17ms/step - loss: 0.0775 - acc: 0.4916 - val_loss: 0.0730 - val_acc: 0.5180\n",
            "Epoch 6/20\n",
            "16/16 [==============================] - 0s 18ms/step - loss: 0.0698 - acc: 0.5198 - val_loss: 0.0663 - val_acc: 0.5310\n",
            "Epoch 7/20\n",
            "16/16 [==============================] - 0s 27ms/step - loss: 0.0640 - acc: 0.5443 - val_loss: 0.0615 - val_acc: 0.5740\n",
            "Epoch 8/20\n",
            "16/16 [==============================] - 0s 20ms/step - loss: 0.0597 - acc: 0.5824 - val_loss: 0.0578 - val_acc: 0.5870\n",
            "Epoch 9/20\n",
            "16/16 [==============================] - 0s 27ms/step - loss: 0.0567 - acc: 0.6129 - val_loss: 0.0552 - val_acc: 0.6050\n",
            "Epoch 10/20\n",
            "16/16 [==============================] - 0s 23ms/step - loss: 0.0543 - acc: 0.6348 - val_loss: 0.0533 - val_acc: 0.6250\n",
            "Epoch 11/20\n",
            "16/16 [==============================] - 0s 22ms/step - loss: 0.0525 - acc: 0.6523 - val_loss: 0.0517 - val_acc: 0.6410\n",
            "Epoch 12/20\n",
            "16/16 [==============================] - 0s 25ms/step - loss: 0.0510 - acc: 0.6634 - val_loss: 0.0505 - val_acc: 0.6630\n",
            "Epoch 13/20\n",
            "16/16 [==============================] - 0s 21ms/step - loss: 0.0497 - acc: 0.6764 - val_loss: 0.0494 - val_acc: 0.6750\n",
            "Epoch 14/20\n",
            "16/16 [==============================] - 0s 30ms/step - loss: 0.0484 - acc: 0.6872 - val_loss: 0.0485 - val_acc: 0.6730\n",
            "Epoch 15/20\n",
            "16/16 [==============================] - 0s 21ms/step - loss: 0.0473 - acc: 0.6943 - val_loss: 0.0474 - val_acc: 0.6750\n",
            "Epoch 16/20\n",
            "16/16 [==============================] - 0s 20ms/step - loss: 0.0463 - acc: 0.7006 - val_loss: 0.0466 - val_acc: 0.6810\n",
            "Epoch 17/20\n",
            "16/16 [==============================] - 0s 29ms/step - loss: 0.0453 - acc: 0.7060 - val_loss: 0.0458 - val_acc: 0.6900\n",
            "Epoch 18/20\n",
            "16/16 [==============================] - 0s 21ms/step - loss: 0.0445 - acc: 0.7100 - val_loss: 0.0451 - val_acc: 0.7010\n",
            "Epoch 19/20\n",
            "16/16 [==============================] - 0s 20ms/step - loss: 0.0436 - acc: 0.7152 - val_loss: 0.0444 - val_acc: 0.7000\n",
            "Epoch 20/20\n",
            "16/16 [==============================] - 0s 30ms/step - loss: 0.0429 - acc: 0.7185 - val_loss: 0.0439 - val_acc: 0.7030\n"
          ]
        }
      ]
    },
    {
      "cell_type": "code",
      "source": [
        "range(1,len(history_basic_model.history['val_loss'])+1)\n"
      ],
      "metadata": {
        "id": "VPQ1GZrd9zQQ",
        "outputId": "57d3703d-e586-44c2-ab90-55133e80527f",
        "colab": {
          "base_uri": "https://localhost:8080/"
        }
      },
      "execution_count": 38,
      "outputs": [
        {
          "output_type": "execute_result",
          "data": {
            "text/plain": [
              "range(1, 21)"
            ]
          },
          "metadata": {},
          "execution_count": 38
        }
      ]
    },
    {
      "cell_type": "code",
      "source": [
        "# 4 Validación\n",
        "epoch = range(1,len(history_basic_model.history['val_loss'])+1)\n",
        "\n",
        "plt.plot(epoch, history_regularizedL2_model.history['val_loss'], 'o',label='training')\n",
        "plt.plot(epoch, history_regularizedL2_model.history['loss'], '--',label='validation')\n",
        "plt.legend()\n",
        "plt.title('Loss values - regularized L2 model')\n",
        "plt.show()\n",
        "print('='*100)\n",
        "\n",
        "plt.plot(epoch,history_regularizedL2_model.history['val_loss'], 'o',label='Regularized Model')\n",
        "plt.plot(epoch,history_basic_model.history['val_loss'], '--',label='Basic Model')\n",
        "plt.legend()\n",
        "plt.title('Loss values')\n",
        "plt.show()\n",
        "print('='*100)\n",
        "\n",
        "plt.plot(epoch,history_regularizedL2_model.history['val_acc'], 'o',label='Regularized Model')\n",
        "plt.plot(epoch,history_basic_model.history['val_acc'], '--',label='Basic Model')\n",
        "plt.legend()\n",
        "plt.title('Accuracy values')\n",
        "plt.show() "
      ],
      "metadata": {
        "colab": {
          "base_uri": "https://localhost:8080/",
          "height": 844
        },
        "id": "Qp2TLDjh7GN9",
        "outputId": "fac69756-0c0b-4961-e525-bba29f450dbe"
      },
      "execution_count": 39,
      "outputs": [
        {
          "output_type": "display_data",
          "data": {
            "text/plain": [
              "<Figure size 432x288 with 1 Axes>"
            ],
            "image/png": "[encoded data removed]"
          },
          "metadata": {
            "needs_background": "light"
          }
        },
        {
          "output_type": "stream",
          "name": "stdout",
          "text": [
            "====================================================================================================\n"
          ]
        },
        {
          "output_type": "display_data",
          "data": {
            "text/plain": [
              "<Figure size 432x288 with 1 Axes>"
            ],
            "image/png": "[encoded data removed]"
          },
          "metadata": {
            "needs_background": "light"
          }
        },
        {
          "output_type": "stream",
          "name": "stdout",
          "text": [
            "====================================================================================================\n"
          ]
        },
        {
          "output_type": "display_data",
          "data": {
            "text/plain": [
              "<Figure size 432x288 with 1 Axes>"
            ],
            "image/png": "[encoded data removed]"
          },
          "metadata": {
            "needs_background": "light"
          }
        }
      ]
    },
    {
      "cell_type": "markdown",
      "source": [
        "# Regularización L1"
      ],
      "metadata": {
        "id": "IRYad2iP6oiw"
      }
    },
    {
      "cell_type": "code",
      "source": [
        "# 1 definición del modelo\n",
        "regularizedL1_model = models.Sequential()\n",
        "regularizedL1_model.add(layers.Dense(64, activation='relu', input_shape=(10000,),\n",
        "                                   kernel_regularizer=regularizers.l1(0.000002)))\n",
        "regularizedL1_model.add(layers.Dense(64, activation='relu',\n",
        "                                   kernel_regularizer=regularizers.l1(0.000002)))\n",
        "regularizedL1_model.add(layers.Dense(46, activation='softmax'))\n",
        "\n",
        "\n",
        "# 2 Compilación del modelo\n",
        "regularizedL1_model.compile(optimizer='rmsprop',\n",
        "              loss='binary_crossentropy',\n",
        "              metrics=['acc'])\n",
        "\n",
        "# 3 Entrenamiento del modelo\n",
        "history_regularizedL1_model = regularizedL1_model.fit(partial_x_train,\n",
        "                                                  partial_y_train,\n",
        "                                                  epochs=20,\n",
        "                                                  batch_size=512,\n",
        "                                                  validation_data=(x_val, y_val))\n",
        "# 4 Validación\n",
        "epoch = range(1,len(history_basic_model.history['val_loss'])+1)\n",
        "\n",
        "plt.plot(epoch,history_regularizedL1_model.history['val_loss'], 'o',label='training')\n",
        "plt.plot(epoch,history_regularizedL1_model.history['loss'], '--',label='validation')\n",
        "plt.legend()\n",
        "plt.title('Loss values - regularized L1 model')\n",
        "plt.show()\n",
        "print('='*100)\n",
        "\n",
        "plt.plot(epoch,history_regularizedL1_model.history['val_loss'], '+',label='Regularized L1 Model')\n",
        "plt.plot(epoch,history_regularizedL2_model.history['val_loss'], 'o',label='Regularized L2 Model')\n",
        "plt.plot(epoch,history_basic_model.history['val_loss'], '--',label='Basic Model')\n",
        "plt.legend()\n",
        "plt.title('Loss values')\n",
        "plt.show()\n",
        "print('='*100)\n",
        "\n",
        "plt.plot(epoch,history_regularizedL1_model.history['val_acc'], '+',label='Regularized L1 Model')\n",
        "plt.plot(epoch,history_regularizedL2_model.history['val_acc'], 'o',label='Regularized L2 Model')\n",
        "plt.plot(epoch,history_basic_model.history['val_acc'], '--',label='Basic Model')\n",
        "plt.legend()\n",
        "plt.title('Accuracy values')\n",
        "plt.show()"
      ],
      "metadata": {
        "colab": {
          "base_uri": "https://localhost:8080/",
          "height": 1000
        },
        "id": "BtB1GOYD6V6H",
        "outputId": "9f80589c-937b-49f9-989e-b6305998dd14"
      },
      "execution_count": 40,
      "outputs": [
        {
          "output_type": "stream",
          "name": "stdout",
          "text": [
            "Epoch 1/20\n",
            "16/16 [==============================] - 3s 47ms/step - loss: 0.5493 - acc: 0.0422 - val_loss: 0.3101 - val_acc: 0.1120\n",
            "Epoch 2/20\n",
            "16/16 [==============================] - 0s 26ms/step - loss: 0.2083 - acc: 0.2987 - val_loss: 0.1426 - val_acc: 0.4130\n",
            "Epoch 3/20\n",
            "16/16 [==============================] - 0s 23ms/step - loss: 0.1227 - acc: 0.3636 - val_loss: 0.1095 - val_acc: 0.3540\n",
            "Epoch 4/20\n",
            "16/16 [==============================] - 0s 19ms/step - loss: 0.1014 - acc: 0.3802 - val_loss: 0.0958 - val_acc: 0.3900\n",
            "Epoch 5/20\n",
            "16/16 [==============================] - 0s 18ms/step - loss: 0.0908 - acc: 0.4281 - val_loss: 0.0868 - val_acc: 0.5060\n",
            "Epoch 6/20\n",
            "16/16 [==============================] - 0s 19ms/step - loss: 0.0834 - acc: 0.4980 - val_loss: 0.0805 - val_acc: 0.4990\n",
            "Epoch 7/20\n",
            "16/16 [==============================] - 0s 17ms/step - loss: 0.0780 - acc: 0.5396 - val_loss: 0.0758 - val_acc: 0.5560\n",
            "Epoch 8/20\n",
            "16/16 [==============================] - 0s 17ms/step - loss: 0.0742 - acc: 0.5675 - val_loss: 0.0725 - val_acc: 0.5650\n",
            "Epoch 9/20\n",
            "16/16 [==============================] - 0s 20ms/step - loss: 0.0714 - acc: 0.5872 - val_loss: 0.0700 - val_acc: 0.5930\n",
            "Epoch 10/20\n",
            "16/16 [==============================] - 0s 17ms/step - loss: 0.0691 - acc: 0.6144 - val_loss: 0.0681 - val_acc: 0.5980\n",
            "Epoch 11/20\n",
            "16/16 [==============================] - 0s 17ms/step - loss: 0.0672 - acc: 0.6253 - val_loss: 0.0663 - val_acc: 0.6270\n",
            "Epoch 12/20\n",
            "16/16 [==============================] - 0s 18ms/step - loss: 0.0656 - acc: 0.6418 - val_loss: 0.0648 - val_acc: 0.6390\n",
            "Epoch 13/20\n",
            "16/16 [==============================] - 0s 17ms/step - loss: 0.0642 - acc: 0.6512 - val_loss: 0.0636 - val_acc: 0.6410\n",
            "Epoch 14/20\n",
            "16/16 [==============================] - 0s 17ms/step - loss: 0.0629 - acc: 0.6646 - val_loss: 0.0626 - val_acc: 0.6510\n",
            "Epoch 15/20\n",
            "16/16 [==============================] - 0s 20ms/step - loss: 0.0618 - acc: 0.6695 - val_loss: 0.0615 - val_acc: 0.6610\n",
            "Epoch 16/20\n",
            "16/16 [==============================] - 0s 18ms/step - loss: 0.0606 - acc: 0.6761 - val_loss: 0.0605 - val_acc: 0.6640\n",
            "Epoch 17/20\n",
            "16/16 [==============================] - 0s 17ms/step - loss: 0.0596 - acc: 0.6817 - val_loss: 0.0596 - val_acc: 0.6730\n",
            "Epoch 18/20\n",
            "16/16 [==============================] - 0s 17ms/step - loss: 0.0587 - acc: 0.6892 - val_loss: 0.0588 - val_acc: 0.6760\n",
            "Epoch 19/20\n",
            "16/16 [==============================] - 0s 19ms/step - loss: 0.0578 - acc: 0.6919 - val_loss: 0.0580 - val_acc: 0.6840\n",
            "Epoch 20/20\n",
            "16/16 [==============================] - 0s 16ms/step - loss: 0.0569 - acc: 0.6993 - val_loss: 0.0571 - val_acc: 0.6810\n"
          ]
        },
        {
          "output_type": "display_data",
          "data": {
            "text/plain": [
              "<Figure size 432x288 with 1 Axes>"
            ],
            "image/png": "[encoded data removed]"
          },
          "metadata": {
            "needs_background": "light"
          }
        },
        {
          "output_type": "stream",
          "name": "stdout",
          "text": [
            "====================================================================================================\n"
          ]
        },
        {
          "output_type": "display_data",
          "data": {
            "text/plain": [
              "<Figure size 432x288 with 1 Axes>"
            ],
            "image/png": "[encoded data removed]"
          },
          "metadata": {
            "needs_background": "light"
          }
        },
        {
          "output_type": "stream",
          "name": "stdout",
          "text": [
            "====================================================================================================\n"
          ]
        },
        {
          "output_type": "display_data",
          "data": {
            "text/plain": [
              "<Figure size 432x288 with 1 Axes>"
            ],
            "image/png": "[encoded data removed]"
          },
          "metadata": {
            "needs_background": "light"
          }
        }
      ]
    },
    {
      "cell_type": "markdown",
      "source": [
        "# Regularización con Dropout"
      ],
      "metadata": {
        "id": "K6Si5KCf-nCG"
      }
    },
    {
      "cell_type": "code",
      "source": [
        "# 1 definición del modelo\n",
        "reg_dropout_model = models.Sequential()\n",
        "reg_dropout_model.add(layers.Dense(64, activation='relu', input_shape=(10000,)))\n",
        "reg_dropout_model.add(layers.Dropout(0.2))\n",
        "\n",
        "reg_dropout_model.add(layers.Dense(64, activation='relu'))\n",
        "reg_dropout_model.add(layers.Dropout(0.2))\n",
        "\n",
        "reg_dropout_model.add(layers.Dense(64, activation='relu'))\n",
        "reg_dropout_model.add(layers.Dropout(0.2))\n",
        "\n",
        "reg_dropout_model.add(layers.Dense(46, activation='softmax'))\n",
        "\n",
        "\n",
        "# 2 Compilación del modelo\n",
        "reg_dropout_model.compile(optimizer='rmsprop',\n",
        "              loss='binary_crossentropy',\n",
        "              metrics=['acc'])\n",
        "\n",
        "# 3 Entrenamiento del modelo\n",
        "history_reg_dropout_model = reg_dropout_model.fit(partial_x_train,\n",
        "                                                  partial_y_train,\n",
        "                                                  epochs=20,\n",
        "                                                  batch_size=512,\n",
        "                                                  validation_data=(x_val, y_val))\n",
        "# 4 Validación\n",
        "epoch = range(1,len(history_basic_model.history['val_loss'])+1)\n",
        "\n",
        "plt.plot(epoch,history_reg_dropout_model.history['val_loss'], 'o',label='training')\n",
        "plt.plot(epoch,history_reg_dropout_model.history['loss'], '--',label='validation')\n",
        "plt.legend()\n",
        "plt.title('Loss values - Dropout Model')\n",
        "plt.show()\n",
        "print('='*100)\n",
        "\n",
        "plt.plot(epoch,history_reg_dropout_model.history['val_loss'], '*',label='Dropout Model')\n",
        "plt.plot(epoch,history_regularizedL1_model.history['val_loss'], '+',label='Regularized L1 Model')\n",
        "plt.plot(epoch,history_regularizedL2_model.history['val_loss'], 'o',label='Regularized L2 Model')\n",
        "plt.plot(epoch,history_basic_model.history['val_loss'], '--',label='Basic Model')\n",
        "plt.legend()\n",
        "plt.title('Loss values')\n",
        "plt.show()\n",
        "print('='*100)\n",
        "\n",
        "plt.plot(epoch,history_reg_dropout_model.history['val_acc'], '*',label='Dropout Model')\n",
        "plt.plot(epoch,history_regularizedL1_model.history['val_acc'], '+',label='Regularized L1 Model')\n",
        "plt.plot(epoch,history_regularizedL2_model.history['val_acc'], 'o',label='Regularized L2 Model')\n",
        "plt.plot(epoch,history_basic_model.history['val_acc'], '--',label='Basic Model')\n",
        "plt.legend()\n",
        "plt.title('Accuracy values')\n",
        "plt.show()"
      ],
      "metadata": {
        "id": "FBqnKXQ7-M6g",
        "outputId": "33c0df4b-1fd7-4ecb-c002-fbd4bc0f134d",
        "colab": {
          "base_uri": "https://localhost:8080/",
          "height": 1000
        }
      },
      "execution_count": 41,
      "outputs": [
        {
          "output_type": "stream",
          "name": "stdout",
          "text": [
            "Epoch 1/20\n",
            "16/16 [==============================] - 2s 34ms/step - loss: 0.4682 - acc: 0.0227 - val_loss: 0.1723 - val_acc: 0.0030\n",
            "Epoch 2/20\n",
            "16/16 [==============================] - 0s 20ms/step - loss: 0.1545 - acc: 0.1453 - val_loss: 0.0928 - val_acc: 0.3550\n",
            "Epoch 3/20\n",
            "16/16 [==============================] - 0s 20ms/step - loss: 0.1068 - acc: 0.2626 - val_loss: 0.0783 - val_acc: 0.3540\n",
            "Epoch 4/20\n",
            "16/16 [==============================] - 0s 20ms/step - loss: 0.0899 - acc: 0.3205 - val_loss: 0.0695 - val_acc: 0.3540\n",
            "Epoch 5/20\n",
            "16/16 [==============================] - 0s 20ms/step - loss: 0.0793 - acc: 0.3706 - val_loss: 0.0635 - val_acc: 0.3650\n",
            "Epoch 6/20\n",
            "16/16 [==============================] - 0s 18ms/step - loss: 0.0725 - acc: 0.4156 - val_loss: 0.0591 - val_acc: 0.5000\n",
            "Epoch 7/20\n",
            "16/16 [==============================] - 0s 20ms/step - loss: 0.0671 - acc: 0.4595 - val_loss: 0.0557 - val_acc: 0.5330\n",
            "Epoch 8/20\n",
            "16/16 [==============================] - 0s 18ms/step - loss: 0.0634 - acc: 0.4881 - val_loss: 0.0530 - val_acc: 0.5460\n",
            "Epoch 9/20\n",
            "16/16 [==============================] - 0s 17ms/step - loss: 0.0603 - acc: 0.5185 - val_loss: 0.0509 - val_acc: 0.5760\n",
            "Epoch 10/20\n",
            "16/16 [==============================] - 0s 17ms/step - loss: 0.0579 - acc: 0.5346 - val_loss: 0.0494 - val_acc: 0.5880\n",
            "Epoch 11/20\n",
            "16/16 [==============================] - 0s 21ms/step - loss: 0.0560 - acc: 0.5569 - val_loss: 0.0482 - val_acc: 0.5990\n",
            "Epoch 12/20\n",
            "16/16 [==============================] - 0s 17ms/step - loss: 0.0543 - acc: 0.5713 - val_loss: 0.0473 - val_acc: 0.6130\n",
            "Epoch 13/20\n",
            "16/16 [==============================] - 0s 17ms/step - loss: 0.0533 - acc: 0.5811 - val_loss: 0.0463 - val_acc: 0.6270\n",
            "Epoch 14/20\n",
            "16/16 [==============================] - 0s 21ms/step - loss: 0.0518 - acc: 0.5927 - val_loss: 0.0459 - val_acc: 0.6340\n",
            "Epoch 15/20\n",
            "16/16 [==============================] - 0s 21ms/step - loss: 0.0508 - acc: 0.6017 - val_loss: 0.0450 - val_acc: 0.6440\n",
            "Epoch 16/20\n",
            "16/16 [==============================] - 0s 19ms/step - loss: 0.0504 - acc: 0.6105 - val_loss: 0.0444 - val_acc: 0.6510\n",
            "Epoch 17/20\n",
            "16/16 [==============================] - 0s 20ms/step - loss: 0.0491 - acc: 0.6185 - val_loss: 0.0438 - val_acc: 0.6630\n",
            "Epoch 18/20\n",
            "16/16 [==============================] - 0s 20ms/step - loss: 0.0480 - acc: 0.6292 - val_loss: 0.0432 - val_acc: 0.6710\n",
            "Epoch 19/20\n",
            "16/16 [==============================] - 0s 20ms/step - loss: 0.0477 - acc: 0.6353 - val_loss: 0.0428 - val_acc: 0.6700\n",
            "Epoch 20/20\n",
            "16/16 [==============================] - 0s 17ms/step - loss: 0.0469 - acc: 0.6396 - val_loss: 0.0423 - val_acc: 0.6800\n"
          ]
        },
        {
          "output_type": "display_data",
          "data": {
            "text/plain": [
              "<Figure size 432x288 with 1 Axes>"
            ],
            "image/png": "[encoded data removed]"
          },
          "metadata": {
            "needs_background": "light"
          }
        },
        {
          "output_type": "stream",
          "name": "stdout",
          "text": [
            "====================================================================================================\n"
          ]
        },
        {
          "output_type": "display_data",
          "data": {
            "text/plain": [
              "<Figure size 432x288 with 1 Axes>"
            ],
            "image/png": "[encoded data removed]"
          },
          "metadata": {
            "needs_background": "light"
          }
        },
        {
          "output_type": "stream",
          "name": "stdout",
          "text": [
            "====================================================================================================\n"
          ]
        },
        {
          "output_type": "display_data",
          "data": {
            "text/plain": [
              "<Figure size 432x288 with 1 Axes>"
            ],
            "image/png": "[encoded data removed]"
          },
          "metadata": {
            "needs_background": "light"
          }
        }
      ]
    },
    {
      "cell_type": "markdown",
      "source": [
        "Regularización con L1-L2"
      ],
      "metadata": {
        "id": "V1TUDnQG-1u3"
      }
    },
    {
      "cell_type": "code",
      "source": [
        "# 1 definición del modelo\n",
        "reg_L1L2_model = models.Sequential()\n",
        "reg_L1L2_model.add(layers.Dense(64, activation='relu', input_shape=(10000,),\n",
        "                                   kernel_regularizer=regularizers.l1_l2(l1=0.000001, l2=0.00001)))\n",
        "\n",
        "# reg_L1L2_model.add(layers.Dense(64, activation='relu',\n",
        "#                                    kernel_regularizer=regularizers.l1_l2(l1=0.000001, l2=0.00001)))\n",
        "\n",
        "# reg_L1L2_model.add(layers.Dense(64, activation='relu',\n",
        "#                                    kernel_regularizer=regularizers.l1_l2(l1=0.000001, l2=0.00001)))\n",
        "\n",
        "reg_L1L2_model.add(layers.Dense(46, activation='softmax'))\n",
        "\n",
        "\n",
        "# 2 Compilación del modelo\n",
        "reg_L1L2_model.compile(optimizer='rmsprop',\n",
        "              loss='binary_crossentropy',\n",
        "              metrics=['acc'])\n",
        "\n",
        "# 3 Entrenamiento del modelo\n",
        "history_reg_L1L2_model = reg_L1L2_model.fit(partial_x_train,\n",
        "                                                  partial_y_train,\n",
        "                                                  epochs=20,\n",
        "                                                  batch_size=512,\n",
        "                                                  validation_data=(x_val, y_val))"
      ],
      "metadata": {
        "id": "9aHBInit-WJo",
        "outputId": "e319b03d-3134-4300-ac83-1e78e81c7644",
        "colab": {
          "base_uri": "https://localhost:8080/"
        }
      },
      "execution_count": 42,
      "outputs": [
        {
          "output_type": "stream",
          "name": "stdout",
          "text": [
            "Epoch 1/20\n",
            "16/16 [==============================] - 2s 70ms/step - loss: 0.5224 - acc: 0.1694 - val_loss: 0.3345 - val_acc: 0.2040\n",
            "Epoch 2/20\n",
            "16/16 [==============================] - 1s 33ms/step - loss: 0.2485 - acc: 0.2240 - val_loss: 0.1786 - val_acc: 0.5010\n",
            "Epoch 3/20\n",
            "16/16 [==============================] - 0s 19ms/step - loss: 0.1479 - acc: 0.5160 - val_loss: 0.1240 - val_acc: 0.5170\n",
            "Epoch 4/20\n",
            "16/16 [==============================] - 0s 21ms/step - loss: 0.1102 - acc: 0.5169 - val_loss: 0.1002 - val_acc: 0.5130\n",
            "Epoch 5/20\n",
            "16/16 [==============================] - 0s 19ms/step - loss: 0.0927 - acc: 0.5292 - val_loss: 0.0877 - val_acc: 0.5320\n",
            "Epoch 6/20\n",
            "16/16 [==============================] - 0s 17ms/step - loss: 0.0827 - acc: 0.5525 - val_loss: 0.0797 - val_acc: 0.5670\n",
            "Epoch 7/20\n",
            "16/16 [==============================] - 0s 17ms/step - loss: 0.0760 - acc: 0.5824 - val_loss: 0.0741 - val_acc: 0.5850\n",
            "Epoch 8/20\n",
            "16/16 [==============================] - 0s 18ms/step - loss: 0.0713 - acc: 0.6074 - val_loss: 0.0699 - val_acc: 0.5910\n",
            "Epoch 9/20\n",
            "16/16 [==============================] - 0s 17ms/step - loss: 0.0677 - acc: 0.6218 - val_loss: 0.0668 - val_acc: 0.6150\n",
            "Epoch 10/20\n",
            "16/16 [==============================] - 0s 17ms/step - loss: 0.0649 - acc: 0.6361 - val_loss: 0.0643 - val_acc: 0.6260\n",
            "Epoch 11/20\n",
            "16/16 [==============================] - 0s 18ms/step - loss: 0.0626 - acc: 0.6511 - val_loss: 0.0622 - val_acc: 0.6360\n",
            "Epoch 12/20\n",
            "16/16 [==============================] - 0s 19ms/step - loss: 0.0607 - acc: 0.6564 - val_loss: 0.0604 - val_acc: 0.6450\n",
            "Epoch 13/20\n",
            "16/16 [==============================] - 0s 17ms/step - loss: 0.0590 - acc: 0.6652 - val_loss: 0.0589 - val_acc: 0.6520\n",
            "Epoch 14/20\n",
            "16/16 [==============================] - 0s 18ms/step - loss: 0.0576 - acc: 0.6711 - val_loss: 0.0576 - val_acc: 0.6580\n",
            "Epoch 15/20\n",
            "16/16 [==============================] - 0s 18ms/step - loss: 0.0563 - acc: 0.6787 - val_loss: 0.0564 - val_acc: 0.6580\n",
            "Epoch 16/20\n",
            "16/16 [==============================] - 0s 25ms/step - loss: 0.0551 - acc: 0.6825 - val_loss: 0.0554 - val_acc: 0.6670\n",
            "Epoch 17/20\n",
            "16/16 [==============================] - 0s 23ms/step - loss: 0.0540 - acc: 0.6872 - val_loss: 0.0544 - val_acc: 0.6710\n",
            "Epoch 18/20\n",
            "16/16 [==============================] - 0s 24ms/step - loss: 0.0530 - acc: 0.6933 - val_loss: 0.0535 - val_acc: 0.6740\n",
            "Epoch 19/20\n",
            "16/16 [==============================] - 0s 21ms/step - loss: 0.0521 - acc: 0.6954 - val_loss: 0.0527 - val_acc: 0.6800\n",
            "Epoch 20/20\n",
            "16/16 [==============================] - 0s 23ms/step - loss: 0.0512 - acc: 0.7008 - val_loss: 0.0519 - val_acc: 0.6800\n"
          ]
        }
      ]
    },
    {
      "cell_type": "code",
      "source": [
        "# 4 Validación\n",
        "epoch = range(1,len(history_basic_model.history['val_loss'])+1)\n",
        "\n",
        "plt.plot(epoch,history_reg_L1L2_model.history['val_loss'], 'o',label='training')\n",
        "plt.plot(epoch,history_reg_L1L2_model.history['loss'], '--',label='validation')\n",
        "plt.legend()\n",
        "plt.title('Loss values - Regularized L1-L2 Model')\n",
        "plt.show()\n",
        "print('='*100)\n",
        "\n",
        "plt.plot(epoch,history_reg_L1L2_model.history['val_loss'], 'x',label='Regularized L1-L2 Model')\n",
        "plt.plot(epoch,history_reg_dropout_model.history['val_loss'], '*',label='Dropout Model')\n",
        "plt.plot(epoch,history_regularizedL1_model.history['val_loss'], '+',label='Regularized L1 Model')\n",
        "plt.plot(epoch,history_regularizedL2_model.history['val_loss'], 'o',label='Regularized L2 Model')\n",
        "plt.plot(epoch,history_basic_model.history['val_loss'], '--',label='Basic Model')\n",
        "plt.legend()\n",
        "plt.title('Loss values')\n",
        "plt.show()\n",
        "print('='*100)\n",
        "plt.plot(epoch,history_reg_L1L2_model.history['val_acc'], 'x',label='Regularized L1-L2 Model')\n",
        "plt.plot(epoch,history_reg_dropout_model.history['val_acc'], '*',label='Dropout Model')\n",
        "plt.plot(epoch,history_regularizedL1_model.history['val_acc'], '+',label='Regularized L1 Model')\n",
        "plt.plot(epoch,history_regularizedL2_model.history['val_acc'], 'o',label='Regularized L2 Model')\n",
        "plt.plot(epoch,history_basic_model.history['val_acc'], '--',label='Basic Model')\n",
        "plt.legend()\n",
        "plt.title('Accuracy values')\n",
        "plt.show()"
      ],
      "metadata": {
        "id": "fDR3TMph-qvo",
        "outputId": "09c3f125-5096-4a95-a12d-809b001959e8",
        "colab": {
          "base_uri": "https://localhost:8080/",
          "height": 844
        }
      },
      "execution_count": 44,
      "outputs": [
        {
          "output_type": "display_data",
          "data": {
            "text/plain": [
              "<Figure size 432x288 with 1 Axes>"
            ],
            "image/png": "[encoded data removed]"
          },
          "metadata": {
            "needs_background": "light"
          }
        },
        {
          "output_type": "stream",
          "name": "stdout",
          "text": [
            "====================================================================================================\n"
          ]
        },
        {
          "output_type": "display_data",
          "data": {
            "text/plain": [
              "<Figure size 432x288 with 1 Axes>"
            ],
            "image/png": "[encoded data removed]"
          },
          "metadata": {
            "needs_background": "light"
          }
        },
        {
          "output_type": "stream",
          "name": "stdout",
          "text": [
            "====================================================================================================\n"
          ]
        },
        {
          "output_type": "display_data",
          "data": {
            "text/plain": [
              "<Figure size 432x288 with 1 Axes>"
            ],
            "image/png": "[encoded data removed]"
          },
          "metadata": {
            "needs_background": "light"
          }
        }
      ]
    },
    {
      "cell_type": "code",
      "source": [],
      "metadata": {
        "id": "XHHDJt46_ZQL"
      },
      "execution_count": null,
      "outputs": []
    }
  ]
}