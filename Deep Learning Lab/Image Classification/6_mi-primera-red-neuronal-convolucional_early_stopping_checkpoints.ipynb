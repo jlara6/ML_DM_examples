{
 "cells": [
  {
   "cell_type": "markdown",
   "id": "f1aee248",
   "metadata": {
    "papermill": {
     "duration": 0.014422,
     "end_time": "2021-11-11T17:06:15.334556",
     "exception": false,
     "start_time": "2021-11-11T17:06:15.320134",
     "status": "completed"
    },
    "tags": []
   },
   "source": [
    "## Importando librerías"
   ]
  },
  {
   "cell_type": "code",
   "execution_count": 1,
   "id": "96223f13",
   "metadata": {
    "execution": {
     "iopub.execute_input": "2021-11-11T17:06:15.442459Z",
     "iopub.status.busy": "2021-11-11T17:06:15.441529Z",
     "iopub.status.idle": "2021-11-11T17:06:19.842740Z",
     "shell.execute_reply": "2021-11-11T17:06:19.841760Z",
     "shell.execute_reply.started": "2021-11-11T17:01:05.118602Z"
    },
    "id": "H33hF0Ek-r08",
    "papermill": {
     "duration": 4.49451,
     "end_time": "2021-11-11T17:06:19.842948",
     "exception": false,
     "start_time": "2021-11-11T17:06:15.348438",
     "status": "completed"
    },
    "tags": []
   },
   "outputs": [
    {
     "name": "stderr",
     "output_type": "stream",
     "text": [
      "2021-11-11 17:06:15.928934: I tensorflow/stream_executor/platform/default/dso_loader.cc:49] Successfully opened dynamic library libcudart.so.11.0\n"
     ]
    }
   ],
   "source": [
    "import tensorflow as tf\n",
    "from tensorflow.keras.datasets import fashion_mnist\n",
    "from tensorflow.keras.layers import Conv2D, Dropout, MaxPooling2D, Flatten, Dense\n",
    "# Helper libraries\n",
    "import numpy as np\n",
    "import matplotlib.pyplot as plt"
   ]
  },
  {
   "cell_type": "markdown",
   "id": "272e3a3f",
   "metadata": {
    "papermill": {
     "duration": 0.028489,
     "end_time": "2021-11-11T17:06:19.902791",
     "exception": false,
     "start_time": "2021-11-11T17:06:19.874302",
     "status": "completed"
    },
    "tags": []
   },
   "source": [
    "## Cargando dataset de Fashion MNIST"
   ]
  },
  {
   "cell_type": "code",
   "execution_count": 2,
   "id": "1cce8d4d",
   "metadata": {
    "execution": {
     "iopub.execute_input": "2021-11-11T17:06:19.970264Z",
     "iopub.status.busy": "2021-11-11T17:06:19.968112Z",
     "iopub.status.idle": "2021-11-11T17:06:21.968463Z",
     "shell.execute_reply": "2021-11-11T17:06:21.967844Z",
     "shell.execute_reply.started": "2021-11-11T17:01:18.623780Z"
    },
    "id": "0zr2gAKY-r1B",
    "papermill": {
     "duration": 2.038038,
     "end_time": "2021-11-11T17:06:21.968590",
     "exception": false,
     "start_time": "2021-11-11T17:06:19.930552",
     "status": "completed"
    },
    "tags": []
   },
   "outputs": [
    {
     "name": "stdout",
     "output_type": "stream",
     "text": [
      "Downloading data from https://storage.googleapis.com/tensorflow/tf-keras-datasets/train-labels-idx1-ubyte.gz\n",
      "32768/29515 [=================================] - 0s 0us/step\n",
      "Downloading data from https://storage.googleapis.com/tensorflow/tf-keras-datasets/train-images-idx3-ubyte.gz\n",
      "26427392/26421880 [==============================] - 1s 0us/step\n",
      "Downloading data from https://storage.googleapis.com/tensorflow/tf-keras-datasets/t10k-labels-idx1-ubyte.gz\n",
      "8192/5148 [===============================================] - 0s 0us/step\n",
      "Downloading data from https://storage.googleapis.com/tensorflow/tf-keras-datasets/t10k-images-idx3-ubyte.gz\n",
      "4423680/4422102 [==============================] - 0s 0us/step\n"
     ]
    }
   ],
   "source": [
    "\n",
    "(train_images, train_labels), (test_images, test_labels) = fashion_mnist.load_data()\n"
   ]
  },
  {
   "cell_type": "code",
   "execution_count": 3,
   "id": "0f1fd366",
   "metadata": {
    "execution": {
     "iopub.execute_input": "2021-11-11T17:06:22.009133Z",
     "iopub.status.busy": "2021-11-11T17:06:22.008393Z",
     "iopub.status.idle": "2021-11-11T17:06:22.011440Z",
     "shell.execute_reply": "2021-11-11T17:06:22.011866Z",
     "shell.execute_reply.started": "2021-11-11T17:01:24.631929Z"
    },
    "id": "osjjzgkp-r1C",
    "outputId": "e3b6eb39-3f3f-4b98-a49a-31f8f5a8fa63",
    "papermill": {
     "duration": 0.026168,
     "end_time": "2021-11-11T17:06:22.011989",
     "exception": false,
     "start_time": "2021-11-11T17:06:21.985821",
     "status": "completed"
    },
    "tags": []
   },
   "outputs": [
    {
     "data": {
      "text/plain": [
       "(60000, 28, 28)"
      ]
     },
     "execution_count": 3,
     "metadata": {},
     "output_type": "execute_result"
    }
   ],
   "source": [
    "train_images.shape"
   ]
  },
  {
   "cell_type": "code",
   "execution_count": 4,
   "id": "fda20baf",
   "metadata": {
    "execution": {
     "iopub.execute_input": "2021-11-11T17:06:22.050917Z",
     "iopub.status.busy": "2021-11-11T17:06:22.050099Z",
     "iopub.status.idle": "2021-11-11T17:06:22.261434Z",
     "shell.execute_reply": "2021-11-11T17:06:22.261884Z",
     "shell.execute_reply.started": "2021-11-11T17:01:26.894989Z"
    },
    "papermill": {
     "duration": 0.232635,
     "end_time": "2021-11-11T17:06:22.262050",
     "exception": false,
     "start_time": "2021-11-11T17:06:22.029415",
     "status": "completed"
    },
    "tags": []
   },
   "outputs": [
    {
     "data": {
      "text/plain": [
       "<matplotlib.image.AxesImage at 0x7fbb802ebe10>"
      ]
     },
     "execution_count": 4,
     "metadata": {},
     "output_type": "execute_result"
    },
    {
     "data": {
      "image/png": "[encoded data removed]",
      "text/plain": [
       "<Figure size 432x288 with 1 Axes>"
      ]
     },
     "metadata": {
      "needs_background": "light"
     },
     "output_type": "display_data"
    }
   ],
   "source": [
    "plt.imshow(train_images[99])"
   ]
  },
  {
   "cell_type": "markdown",
   "id": "b0d5b0ba",
   "metadata": {
    "papermill": {
     "duration": 0.017391,
     "end_time": "2021-11-11T17:06:22.298873",
     "exception": false,
     "start_time": "2021-11-11T17:06:22.281482",
     "status": "completed"
    },
    "tags": []
   },
   "source": [
    "## Limpieza de datos"
   ]
  },
  {
   "cell_type": "code",
   "execution_count": 5,
   "id": "550fb481",
   "metadata": {
    "execution": {
     "iopub.execute_input": "2021-11-11T17:06:22.340814Z",
     "iopub.status.busy": "2021-11-11T17:06:22.339768Z",
     "iopub.status.idle": "2021-11-11T17:06:22.419837Z",
     "shell.execute_reply": "2021-11-11T17:06:22.419341Z",
     "shell.execute_reply.started": "2021-11-11T17:01:36.514921Z"
    },
    "id": "9AegrMUc-r1E",
    "papermill": {
     "duration": 0.103085,
     "end_time": "2021-11-11T17:06:22.419977",
     "exception": false,
     "start_time": "2021-11-11T17:06:22.316892",
     "status": "completed"
    },
    "tags": []
   },
   "outputs": [],
   "source": [
    "train_images = train_images.astype('float32') / 255\n",
    "test_images = test_images.astype('float32') / 255\n",
    "\n",
    "train_images = train_images.reshape(train_images.shape[0], 28, 28, 1)\n",
    "test_images = test_images.reshape(test_images.shape[0], 28, 28, 1)\n",
    "\n",
    "train_labels = tf.keras.utils.to_categorical(train_labels, 10)\n",
    "test_labels = tf.keras.utils.to_categorical(test_labels, 10)\n"
   ]
  },
  {
   "cell_type": "markdown",
   "id": "413b81f6",
   "metadata": {
    "papermill": {
     "duration": 0.017589,
     "end_time": "2021-11-11T17:06:22.456080",
     "exception": false,
     "start_time": "2021-11-11T17:06:22.438491",
     "status": "completed"
    },
    "tags": []
   },
   "source": [
    "## Creando nuestra red neuronal"
   ]
  },
  {
   "cell_type": "code",
   "execution_count": 6,
   "id": "97a617a3",
   "metadata": {
    "execution": {
     "iopub.execute_input": "2021-11-11T17:06:22.498012Z",
     "iopub.status.busy": "2021-11-11T17:06:22.497448Z",
     "iopub.status.idle": "2021-11-11T17:06:24.423860Z",
     "shell.execute_reply": "2021-11-11T17:06:24.423328Z",
     "shell.execute_reply.started": "2021-11-11T17:01:42.990390Z"
    },
    "id": "BpF3fu_B-r1E",
    "outputId": "b957cc4f-88e8-4117-9499-7d0082f00663",
    "papermill": {
     "duration": 1.950101,
     "end_time": "2021-11-11T17:06:24.423994",
     "exception": false,
     "start_time": "2021-11-11T17:06:22.473893",
     "status": "completed"
    },
    "tags": []
   },
   "outputs": [
    {
     "name": "stderr",
     "output_type": "stream",
     "text": [
      "2021-11-11 17:06:22.508038: I tensorflow/compiler/jit/xla_cpu_device.cc:41] Not creating XLA devices, tf_xla_enable_xla_devices not set\n",
      "2021-11-11 17:06:22.511335: I tensorflow/stream_executor/platform/default/dso_loader.cc:49] Successfully opened dynamic library libcuda.so.1\n",
      "2021-11-11 17:06:22.556613: I tensorflow/stream_executor/cuda/cuda_gpu_executor.cc:941] successful NUMA node read from SysFS had negative value (-1), but there must be at least one NUMA node, so returning NUMA node zero\n",
      "2021-11-11 17:06:22.557227: I tensorflow/core/common_runtime/gpu/gpu_device.cc:1720] Found device 0 with properties: \n",
      "pciBusID: 0000:00:04.0 name: Tesla P100-PCIE-16GB computeCapability: 6.0\n",
      "coreClock: 1.3285GHz coreCount: 56 deviceMemorySize: 15.90GiB deviceMemoryBandwidth: 681.88GiB/s\n",
      "2021-11-11 17:06:22.557276: I tensorflow/stream_executor/platform/default/dso_loader.cc:49] Successfully opened dynamic library libcudart.so.11.0\n",
      "2021-11-11 17:06:22.581827: I tensorflow/stream_executor/platform/default/dso_loader.cc:49] Successfully opened dynamic library libcublas.so.11\n",
      "2021-11-11 17:06:22.581904: I tensorflow/stream_executor/platform/default/dso_loader.cc:49] Successfully opened dynamic library libcublasLt.so.11\n",
      "2021-11-11 17:06:22.597367: I tensorflow/stream_executor/platform/default/dso_loader.cc:49] Successfully opened dynamic library libcufft.so.10\n",
      "2021-11-11 17:06:22.605609: I tensorflow/stream_executor/platform/default/dso_loader.cc:49] Successfully opened dynamic library libcurand.so.10\n",
      "2021-11-11 17:06:22.632463: I tensorflow/stream_executor/platform/default/dso_loader.cc:49] Successfully opened dynamic library libcusolver.so.10\n",
      "2021-11-11 17:06:22.639190: I tensorflow/stream_executor/platform/default/dso_loader.cc:49] Successfully opened dynamic library libcusparse.so.11\n",
      "2021-11-11 17:06:22.642573: I tensorflow/stream_executor/platform/default/dso_loader.cc:49] Successfully opened dynamic library libcudnn.so.8\n",
      "2021-11-11 17:06:22.642742: I tensorflow/stream_executor/cuda/cuda_gpu_executor.cc:941] successful NUMA node read from SysFS had negative value (-1), but there must be at least one NUMA node, so returning NUMA node zero\n",
      "2021-11-11 17:06:22.643377: I tensorflow/stream_executor/cuda/cuda_gpu_executor.cc:941] successful NUMA node read from SysFS had negative value (-1), but there must be at least one NUMA node, so returning NUMA node zero\n",
      "2021-11-11 17:06:22.644937: I tensorflow/core/common_runtime/gpu/gpu_device.cc:1862] Adding visible gpu devices: 0\n",
      "2021-11-11 17:06:22.645798: I tensorflow/core/platform/cpu_feature_guard.cc:142] This TensorFlow binary is optimized with oneAPI Deep Neural Network Library (oneDNN) to use the following CPU instructions in performance-critical operations:  AVX2 AVX512F FMA\n",
      "To enable them in other operations, rebuild TensorFlow with the appropriate compiler flags.\n",
      "2021-11-11 17:06:22.646003: I tensorflow/compiler/jit/xla_gpu_device.cc:99] Not creating XLA devices, tf_xla_enable_xla_devices not set\n",
      "2021-11-11 17:06:22.646163: I tensorflow/stream_executor/cuda/cuda_gpu_executor.cc:941] successful NUMA node read from SysFS had negative value (-1), but there must be at least one NUMA node, so returning NUMA node zero\n",
      "2021-11-11 17:06:22.646774: I tensorflow/core/common_runtime/gpu/gpu_device.cc:1720] Found device 0 with properties: \n",
      "pciBusID: 0000:00:04.0 name: Tesla P100-PCIE-16GB computeCapability: 6.0\n",
      "coreClock: 1.3285GHz coreCount: 56 deviceMemorySize: 15.90GiB deviceMemoryBandwidth: 681.88GiB/s\n",
      "2021-11-11 17:06:22.646810: I tensorflow/stream_executor/platform/default/dso_loader.cc:49] Successfully opened dynamic library libcudart.so.11.0\n",
      "2021-11-11 17:06:22.646832: I tensorflow/stream_executor/platform/default/dso_loader.cc:49] Successfully opened dynamic library libcublas.so.11\n",
      "2021-11-11 17:06:22.646848: I tensorflow/stream_executor/platform/default/dso_loader.cc:49] Successfully opened dynamic library libcublasLt.so.11\n",
      "2021-11-11 17:06:22.646882: I tensorflow/stream_executor/platform/default/dso_loader.cc:49] Successfully opened dynamic library libcufft.so.10\n",
      "2021-11-11 17:06:22.646913: I tensorflow/stream_executor/platform/default/dso_loader.cc:49] Successfully opened dynamic library libcurand.so.10\n",
      "2021-11-11 17:06:22.646930: I tensorflow/stream_executor/platform/default/dso_loader.cc:49] Successfully opened dynamic library libcusolver.so.10\n",
      "2021-11-11 17:06:22.646959: I tensorflow/stream_executor/platform/default/dso_loader.cc:49] Successfully opened dynamic library libcusparse.so.11\n",
      "2021-11-11 17:06:22.646975: I tensorflow/stream_executor/platform/default/dso_loader.cc:49] Successfully opened dynamic library libcudnn.so.8\n",
      "2021-11-11 17:06:22.647051: I tensorflow/stream_executor/cuda/cuda_gpu_executor.cc:941] successful NUMA node read from SysFS had negative value (-1), but there must be at least one NUMA node, so returning NUMA node zero\n",
      "2021-11-11 17:06:22.647675: I tensorflow/stream_executor/cuda/cuda_gpu_executor.cc:941] successful NUMA node read from SysFS had negative value (-1), but there must be at least one NUMA node, so returning NUMA node zero\n",
      "2021-11-11 17:06:22.648204: I tensorflow/core/common_runtime/gpu/gpu_device.cc:1862] Adding visible gpu devices: 0\n",
      "2021-11-11 17:06:22.649314: I tensorflow/stream_executor/platform/default/dso_loader.cc:49] Successfully opened dynamic library libcudart.so.11.0\n",
      "2021-11-11 17:06:24.036981: I tensorflow/core/common_runtime/gpu/gpu_device.cc:1261] Device interconnect StreamExecutor with strength 1 edge matrix:\n",
      "2021-11-11 17:06:24.037033: I tensorflow/core/common_runtime/gpu/gpu_device.cc:1267]      0 \n",
      "2021-11-11 17:06:24.037043: I tensorflow/core/common_runtime/gpu/gpu_device.cc:1280] 0:   N \n",
      "2021-11-11 17:06:24.039411: I tensorflow/stream_executor/cuda/cuda_gpu_executor.cc:941] successful NUMA node read from SysFS had negative value (-1), but there must be at least one NUMA node, so returning NUMA node zero\n",
      "2021-11-11 17:06:24.040226: I tensorflow/stream_executor/cuda/cuda_gpu_executor.cc:941] successful NUMA node read from SysFS had negative value (-1), but there must be at least one NUMA node, so returning NUMA node zero\n",
      "2021-11-11 17:06:24.040898: I tensorflow/stream_executor/cuda/cuda_gpu_executor.cc:941] successful NUMA node read from SysFS had negative value (-1), but there must be at least one NUMA node, so returning NUMA node zero\n",
      "2021-11-11 17:06:24.041524: I tensorflow/core/common_runtime/gpu/gpu_device.cc:1406] Created TensorFlow device (/job:localhost/replica:0/task:0/device:GPU:0 with 14957 MB memory) -> physical GPU (device: 0, name: Tesla P100-PCIE-16GB, pci bus id: 0000:00:04.0, compute capability: 6.0)\n"
     ]
    },
    {
     "name": "stdout",
     "output_type": "stream",
     "text": [
      "Model: \"sequential\"\n",
      "_________________________________________________________________\n",
      "Layer (type)                 Output Shape              Param #   \n",
      "=================================================================\n",
      "conv2d (Conv2D)              (None, 28, 28, 64)        320       \n",
      "_________________________________________________________________\n",
      "max_pooling2d (MaxPooling2D) (None, 14, 14, 64)        0         \n",
      "_________________________________________________________________\n",
      "dropout (Dropout)            (None, 14, 14, 64)        0         \n",
      "_________________________________________________________________\n",
      "conv2d_1 (Conv2D)            (None, 14, 14, 32)        8224      \n",
      "_________________________________________________________________\n",
      "max_pooling2d_1 (MaxPooling2 (None, 7, 7, 32)          0         \n",
      "_________________________________________________________________\n",
      "dropout_1 (Dropout)          (None, 7, 7, 32)          0         \n",
      "_________________________________________________________________\n",
      "flatten (Flatten)            (None, 1568)              0         \n",
      "_________________________________________________________________\n",
      "dense (Dense)                (None, 256)               401664    \n",
      "_________________________________________________________________\n",
      "dropout_2 (Dropout)          (None, 256)               0         \n",
      "_________________________________________________________________\n",
      "dense_1 (Dense)              (None, 10)                2570      \n",
      "=================================================================\n",
      "Total params: 412,778\n",
      "Trainable params: 412,778\n",
      "Non-trainable params: 0\n",
      "_________________________________________________________________\n"
     ]
    }
   ],
   "source": [
    "model = tf.keras.Sequential()\n",
    "# Must define the input shape in the first layer of the neural network\n",
    "model.add(Conv2D(filters=64, kernel_size=2, padding='same', activation='relu', input_shape=(28,28,1))) \n",
    "model.add(MaxPooling2D(pool_size=2))\n",
    "model.add(Dropout(0.3))\n",
    "model.add(Conv2D(filters=32, kernel_size=2, padding='same', activation='relu'))\n",
    "model.add(MaxPooling2D(pool_size=2))\n",
    "model.add(Dropout(0.3))\n",
    "model.add(Flatten())\n",
    "model.add(Dense(256, activation='relu'))\n",
    "model.add(Dropout(0.5))\n",
    "model.add(Dense(10, activation='softmax'))\n",
    "# Take a look at the model summary\n",
    "model.summary()"
   ]
  },
  {
   "cell_type": "markdown",
   "id": "89092450",
   "metadata": {
    "papermill": {
     "duration": 0.018451,
     "end_time": "2021-11-11T17:06:24.461912",
     "exception": false,
     "start_time": "2021-11-11T17:06:24.443461",
     "status": "completed"
    },
    "tags": []
   },
   "source": [
    "## Compilando la red neuronal"
   ]
  },
  {
   "cell_type": "code",
   "execution_count": 7,
   "id": "e9016e4c",
   "metadata": {
    "execution": {
     "iopub.execute_input": "2021-11-11T17:06:24.509784Z",
     "iopub.status.busy": "2021-11-11T17:06:24.509211Z",
     "iopub.status.idle": "2021-11-11T17:06:24.515699Z",
     "shell.execute_reply": "2021-11-11T17:06:24.515245Z",
     "shell.execute_reply.started": "2021-11-11T17:01:54.583862Z"
    },
    "id": "rMqa4rYE-r1F",
    "papermill": {
     "duration": 0.034923,
     "end_time": "2021-11-11T17:06:24.515809",
     "exception": false,
     "start_time": "2021-11-11T17:06:24.480886",
     "status": "completed"
    },
    "tags": []
   },
   "outputs": [],
   "source": [
    "model.compile(loss='categorical_crossentropy',\n",
    "             optimizer='rmsprop',\n",
    "             metrics=['accuracy'])"
   ]
  },
  {
   "cell_type": "markdown",
   "id": "8869cd04",
   "metadata": {
    "papermill": {
     "duration": 0.018476,
     "end_time": "2021-11-11T17:06:24.553194",
     "exception": false,
     "start_time": "2021-11-11T17:06:24.534718",
     "status": "completed"
    },
    "tags": []
   },
   "source": [
    "## Entenando la red"
   ]
  },
  {
   "cell_type": "code",
   "execution_count": 8,
   "id": "a1fd3611",
   "metadata": {
    "execution": {
     "iopub.execute_input": "2021-11-11T17:06:24.593408Z",
     "iopub.status.busy": "2021-11-11T17:06:24.592836Z",
     "iopub.status.idle": "2021-11-11T17:07:09.113018Z",
     "shell.execute_reply": "2021-11-11T17:07:09.112548Z",
     "shell.execute_reply.started": "2021-11-11T17:01:59.576624Z"
    },
    "id": "LwXuNVul-r1G",
    "outputId": "1c08efc9-f585-4406-a95a-b8623bcfc8d2",
    "papermill": {
     "duration": 44.5418,
     "end_time": "2021-11-11T17:07:09.113149",
     "exception": false,
     "start_time": "2021-11-11T17:06:24.571349",
     "status": "completed"
    },
    "tags": []
   },
   "outputs": [
    {
     "name": "stderr",
     "output_type": "stream",
     "text": [
      "2021-11-11 17:06:24.797704: I tensorflow/compiler/mlir/mlir_graph_optimization_pass.cc:116] None of the MLIR optimization passes are enabled (registered 2)\n",
      "2021-11-11 17:06:24.808094: I tensorflow/core/platform/profile_utils/cpu_utils.cc:112] CPU Frequency: 2000185000 Hz\n"
     ]
    },
    {
     "name": "stdout",
     "output_type": "stream",
     "text": [
      "Epoch 1/10\n"
     ]
    },
    {
     "name": "stderr",
     "output_type": "stream",
     "text": [
      "2021-11-11 17:06:25.496465: I tensorflow/stream_executor/platform/default/dso_loader.cc:49] Successfully opened dynamic library libcublas.so.11\n",
      "2021-11-11 17:06:26.270917: I tensorflow/stream_executor/platform/default/dso_loader.cc:49] Successfully opened dynamic library libcublasLt.so.11\n",
      "2021-11-11 17:06:26.285180: I tensorflow/stream_executor/platform/default/dso_loader.cc:49] Successfully opened dynamic library libcudnn.so.8\n"
     ]
    },
    {
     "name": "stdout",
     "output_type": "stream",
     "text": [
      "938/938 [==============================] - 10s 4ms/step - loss: 0.7914 - accuracy: 0.7080\n",
      "Epoch 2/10\n",
      "938/938 [==============================] - 4s 4ms/step - loss: 0.4090 - accuracy: 0.8511\n",
      "Epoch 3/10\n",
      "938/938 [==============================] - 4s 4ms/step - loss: 0.3552 - accuracy: 0.8743\n",
      "Epoch 4/10\n",
      "938/938 [==============================] - 4s 4ms/step - loss: 0.3358 - accuracy: 0.8796\n",
      "Epoch 5/10\n",
      "938/938 [==============================] - 4s 4ms/step - loss: 0.3194 - accuracy: 0.8849\n",
      "Epoch 6/10\n",
      "938/938 [==============================] - 4s 4ms/step - loss: 0.3141 - accuracy: 0.8892\n",
      "Epoch 7/10\n",
      "938/938 [==============================] - 4s 4ms/step - loss: 0.3080 - accuracy: 0.8915\n",
      "Epoch 8/10\n",
      "938/938 [==============================] - 4s 4ms/step - loss: 0.3070 - accuracy: 0.8927\n",
      "Epoch 9/10\n",
      "938/938 [==============================] - 4s 4ms/step - loss: 0.3104 - accuracy: 0.8923\n",
      "Epoch 10/10\n",
      "938/938 [==============================] - 4s 4ms/step - loss: 0.3058 - accuracy: 0.8926\n"
     ]
    },
    {
     "data": {
      "text/plain": [
       "<tensorflow.python.keras.callbacks.History at 0x7fbb3b9c3110>"
      ]
     },
     "execution_count": 8,
     "metadata": {},
     "output_type": "execute_result"
    }
   ],
   "source": [
    "model.fit(train_images,\n",
    "         train_labels,\n",
    "         batch_size=64,\n",
    "         epochs=10)"
   ]
  },
  {
   "cell_type": "markdown",
   "id": "8e86b8c0",
   "metadata": {
    "papermill": {
     "duration": 0.207945,
     "end_time": "2021-11-11T17:07:09.532709",
     "exception": false,
     "start_time": "2021-11-11T17:07:09.324764",
     "status": "completed"
    },
    "tags": []
   },
   "source": [
    "## Análisis de resultados"
   ]
  },
  {
   "cell_type": "code",
   "execution_count": 9,
   "id": "0fa6006c",
   "metadata": {
    "execution": {
     "iopub.execute_input": "2021-11-11T17:07:09.956576Z",
     "iopub.status.busy": "2021-11-11T17:07:09.955672Z",
     "iopub.status.idle": "2021-11-11T17:07:10.724152Z",
     "shell.execute_reply": "2021-11-11T17:07:10.723569Z",
     "shell.execute_reply.started": "2021-11-11T17:03:03.911813Z"
    },
    "id": "Z4ZcmVz--r1H",
    "papermill": {
     "duration": 0.984203,
     "end_time": "2021-11-11T17:07:10.724290",
     "exception": false,
     "start_time": "2021-11-11T17:07:09.740087",
     "status": "completed"
    },
    "tags": []
   },
   "outputs": [],
   "source": [
    "score = model.evaluate(test_images, test_labels, verbose=0)\n"
   ]
  },
  {
   "cell_type": "code",
   "execution_count": 10,
   "id": "816c552f",
   "metadata": {
    "execution": {
     "iopub.execute_input": "2021-11-11T17:07:11.156245Z",
     "iopub.status.busy": "2021-11-11T17:07:11.155660Z",
     "iopub.status.idle": "2021-11-11T17:07:11.158249Z",
     "shell.execute_reply": "2021-11-11T17:07:11.158666Z",
     "shell.execute_reply.started": "2021-11-11T17:03:10.716804Z"
    },
    "id": "SDvL_YXD-r1I",
    "outputId": "eaa46e60-ae9c-43d6-a9a7-91808b1a131e",
    "papermill": {
     "duration": 0.21839,
     "end_time": "2021-11-11T17:07:11.158801",
     "exception": false,
     "start_time": "2021-11-11T17:07:10.940411",
     "status": "completed"
    },
    "tags": []
   },
   "outputs": [
    {
     "data": {
      "text/plain": [
       "[0.2863689064979553, 0.8980000019073486]"
      ]
     },
     "execution_count": 10,
     "metadata": {},
     "output_type": "execute_result"
    }
   ],
   "source": [
    "score"
   ]
  },
  {
   "cell_type": "markdown",
   "id": "10f41634",
   "metadata": {
    "papermill": {
     "duration": 0.209522,
     "end_time": "2021-11-11T17:07:11.579032",
     "exception": false,
     "start_time": "2021-11-11T17:07:11.369510",
     "status": "completed"
    },
    "tags": []
   },
   "source": [
    "## Callbacks"
   ]
  },
  {
   "cell_type": "code",
   "execution_count": 11,
   "id": "24aa9990",
   "metadata": {
    "execution": {
     "iopub.execute_input": "2021-11-11T17:07:12.020792Z",
     "iopub.status.busy": "2021-11-11T17:07:12.019798Z",
     "iopub.status.idle": "2021-11-11T17:07:20.037814Z",
     "shell.execute_reply": "2021-11-11T17:07:20.038287Z",
     "shell.execute_reply.started": "2021-11-11T17:03:14.656466Z"
    },
    "papermill": {
     "duration": 8.244162,
     "end_time": "2021-11-11T17:07:20.038428",
     "exception": false,
     "start_time": "2021-11-11T17:07:11.794266",
     "status": "completed"
    },
    "tags": []
   },
   "outputs": [
    {
     "name": "stdout",
     "output_type": "stream",
     "text": [
      "Epoch 1/10\n",
      "938/938 [==============================] - 4s 4ms/step - loss: 0.3137 - accuracy: 0.8911\n",
      "Epoch 2/10\n",
      "938/938 [==============================] - 4s 4ms/step - loss: 0.3131 - accuracy: 0.8908\n"
     ]
    },
    {
     "data": {
      "text/plain": [
       "<tensorflow.python.keras.callbacks.History at 0x7fbb282ed890>"
      ]
     },
     "execution_count": 11,
     "metadata": {},
     "output_type": "execute_result"
    }
   ],
   "source": [
    "early = tf.keras.callbacks.EarlyStopping(monitor='accuracy',patience=1)\n",
    "model.fit(train_images,\n",
    "         train_labels,\n",
    "         batch_size=64,\n",
    "        callbacks=[early],\n",
    "         epochs=10)"
   ]
  },
  {
   "cell_type": "code",
   "execution_count": 12,
   "id": "ed642f24",
   "metadata": {
    "execution": {
     "iopub.execute_input": "2021-11-11T17:07:20.544026Z",
     "iopub.status.busy": "2021-11-11T17:07:20.543046Z",
     "iopub.status.idle": "2021-11-11T17:07:58.682862Z",
     "shell.execute_reply": "2021-11-11T17:07:58.682332Z",
     "shell.execute_reply.started": "2021-11-11T17:04:03.393720Z"
    },
    "papermill": {
     "duration": 38.392777,
     "end_time": "2021-11-11T17:07:58.683054",
     "exception": false,
     "start_time": "2021-11-11T17:07:20.290277",
     "status": "completed"
    },
    "tags": []
   },
   "outputs": [
    {
     "name": "stdout",
     "output_type": "stream",
     "text": [
      "Epoch 1/10\n",
      "938/938 [==============================] - 4s 4ms/step - loss: 0.3175 - accuracy: 0.8917\n",
      "\n",
      "Epoch 00001: accuracy improved from -inf to 0.89168, saving model to mi_primer_red_conv.hdf5\n",
      "Epoch 2/10\n",
      "938/938 [==============================] - 4s 4ms/step - loss: 0.3163 - accuracy: 0.8908\n",
      "\n",
      "Epoch 00002: accuracy did not improve from 0.89168\n",
      "Epoch 3/10\n",
      "938/938 [==============================] - 4s 4ms/step - loss: 0.3200 - accuracy: 0.8911\n",
      "\n",
      "Epoch 00003: accuracy did not improve from 0.89168\n",
      "Epoch 4/10\n",
      "938/938 [==============================] - 4s 4ms/step - loss: 0.3198 - accuracy: 0.8906\n",
      "\n",
      "Epoch 00004: accuracy did not improve from 0.89168\n",
      "Epoch 5/10\n",
      "938/938 [==============================] - 4s 4ms/step - loss: 0.3234 - accuracy: 0.8889\n",
      "\n",
      "Epoch 00005: accuracy did not improve from 0.89168\n",
      "Epoch 6/10\n",
      "938/938 [==============================] - 4s 4ms/step - loss: 0.3204 - accuracy: 0.8898\n",
      "\n",
      "Epoch 00006: accuracy did not improve from 0.89168\n",
      "Epoch 7/10\n",
      "938/938 [==============================] - 4s 4ms/step - loss: 0.3266 - accuracy: 0.8899\n",
      "\n",
      "Epoch 00007: accuracy did not improve from 0.89168\n",
      "Epoch 8/10\n",
      "938/938 [==============================] - 4s 4ms/step - loss: 0.3290 - accuracy: 0.8877\n",
      "\n",
      "Epoch 00008: accuracy did not improve from 0.89168\n",
      "Epoch 9/10\n",
      "938/938 [==============================] - 4s 4ms/step - loss: 0.3312 - accuracy: 0.8875\n",
      "\n",
      "Epoch 00009: accuracy did not improve from 0.89168\n",
      "Epoch 10/10\n",
      "938/938 [==============================] - 4s 4ms/step - loss: 0.3339 - accuracy: 0.8871\n",
      "\n",
      "Epoch 00010: accuracy did not improve from 0.89168\n"
     ]
    },
    {
     "data": {
      "text/plain": [
       "<tensorflow.python.keras.callbacks.History at 0x7fbb280e5410>"
      ]
     },
     "execution_count": 12,
     "metadata": {},
     "output_type": "execute_result"
    }
   ],
   "source": [
    "checkpoint = tf.keras.callbacks.ModelCheckpoint(filepath='mi_primer_red_conv.hdf5',\n",
    "                                verbose=1,\n",
    "                                  monitor='accuracy',\n",
    "                                  save_best_only=True)\n",
    "model.fit(train_images,\n",
    "         train_labels,\n",
    "         batch_size=64,\n",
    "         callbacks=[checkpoint],\n",
    "         epochs=10)"
   ]
  },
  {
   "cell_type": "code",
   "execution_count": 13,
   "id": "e94fb596",
   "metadata": {
    "execution": {
     "iopub.execute_input": "2021-11-11T17:07:59.805681Z",
     "iopub.status.busy": "2021-11-11T17:07:59.804648Z",
     "iopub.status.idle": "2021-11-11T17:07:59.810742Z",
     "shell.execute_reply": "2021-11-11T17:07:59.810207Z",
     "shell.execute_reply.started": "2021-11-11T17:04:43.947079Z"
    },
    "papermill": {
     "duration": 0.494371,
     "end_time": "2021-11-11T17:07:59.810925",
     "exception": false,
     "start_time": "2021-11-11T17:07:59.316554",
     "status": "completed"
    },
    "tags": []
   },
   "outputs": [],
   "source": [
    "model2 = model\n",
    "model2.load_weights('./mi_primer_red_conv.hdf5')"
   ]
  },
  {
   "cell_type": "code",
   "execution_count": 14,
   "id": "16dbff4a",
   "metadata": {
    "execution": {
     "iopub.execute_input": "2021-11-11T17:08:00.684251Z",
     "iopub.status.busy": "2021-11-11T17:08:00.683318Z",
     "iopub.status.idle": "2021-11-11T17:08:01.484119Z",
     "shell.execute_reply": "2021-11-11T17:08:01.484934Z",
     "shell.execute_reply.started": "2021-11-11T17:04:50.748709Z"
    },
    "papermill": {
     "duration": 1.237461,
     "end_time": "2021-11-11T17:08:01.485116",
     "exception": false,
     "start_time": "2021-11-11T17:08:00.247655",
     "status": "completed"
    },
    "tags": []
   },
   "outputs": [
    {
     "name": "stdout",
     "output_type": "stream",
     "text": [
      "313/313 [==============================] - 1s 2ms/step - loss: 0.6963 - accuracy: 0.8723\n"
     ]
    },
    {
     "data": {
      "text/plain": [
       "[0.6963484287261963, 0.8723000288009644]"
      ]
     },
     "execution_count": 14,
     "metadata": {},
     "output_type": "execute_result"
    }
   ],
   "source": [
    "model2.evaluate(test_images, test_labels)"
   ]
  }
 ],
 "metadata": {
  "kernelspec": {
   "display_name": "Python 3",
   "language": "python",
   "name": "python3"
  },
  "language_info": {
   "codemirror_mode": {
    "name": "ipython",
    "version": 3
   },
   "file_extension": ".py",
   "mimetype": "text/x-python",
   "name": "python",
   "nbconvert_exporter": "python",
   "pygments_lexer": "ipython3",
   "version": "3.7.10"
  },
  "papermill": {
   "default_parameters": {},
   "duration": 116.782148,
   "end_time": "2021-11-11T17:08:05.523595",
   "environment_variables": {},
   "exception": null,
   "input_path": "__notebook__.ipynb",
   "output_path": "__notebook__.ipynb",
   "parameters": {},
   "start_time": "2021-11-11T17:06:08.741447",
   "version": "2.3.3"
  }
 },
 "nbformat": 4,
 "nbformat_minor": 5
}
